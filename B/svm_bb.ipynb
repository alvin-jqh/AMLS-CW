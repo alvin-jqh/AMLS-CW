{
 "cells": [
  {
   "cell_type": "code",
   "execution_count": null,
   "metadata": {
    "vscode": {
     "languageId": "plaintext"
    }
   },
   "outputs": [],
   "source": [
    "import numpy as np\n",
    "import matplotlib.pyplot as plt\n",
    "from sklearn import svm\n",
    "\n",
    "from torchvision import transforms\n",
    "import torchvision\n",
    "\n",
    "import medmnist\n",
    "from medmnist import INFO, BreastMNIST, BloodMNIST\n",
    "\n",
    "import matplotlib.pyplot as plt\n",
    "\n",
    "import os"
   ]
  },
  {
   "cell_type": "code",
   "execution_count": null,
   "metadata": {
    "vscode": {
     "languageId": "plaintext"
    }
   },
   "outputs": [],
   "source": [
    "dir = os.getcwd()\n",
    "dir = os.path.dirname(dir)\n",
    "\n",
    "data_flag = \"bloodmnist\"\n",
    "data_dir = \"Datasets\"\n",
    "\n",
    "PATH = os.path.join(dir, data_dir)\n",
    "\n",
    "# retrieve the data from the \n",
    "datasets = {x: BloodMNIST(split= x, transform=None, download=False, root=PATH)\n",
    "            for x in [\"train\", \"val\", \"test\"]} \n",
    "[\"train\", \"val\", \"test\"]\n",
    "images = {x: np.array(datasets[x].imgs) for x in [\"train\", \"val\", \"test\"]}\n",
    "labels = {x: np.array(datasets[x].labels).flatten() for x in [\"train\", \"val\", \"test\"]}"
   ]
  },
  {
   "cell_type": "code",
   "execution_count": null,
   "metadata": {
    "vscode": {
     "languageId": "plaintext"
    }
   },
   "outputs": [],
   "source": [
    "from skimage.feature import hog\n",
    "\n",
    "def extract_hog(image):\n",
    "    fd = hog(\n",
    "        image,\n",
    "        orientations=6,\n",
    "        pixels_per_cell=(8, 8),\n",
    "        cells_per_block=(2, 2),\n",
    "        visualize=False,\n",
    "        channel_axis=0,\n",
    "    )\n",
    "    return fd"
   ]
  },
  {
   "cell_type": "code",
   "execution_count": null,
   "metadata": {
    "vscode": {
     "languageId": "plaintext"
    }
   },
   "outputs": [],
   "source": [
    "dir = os.getcwd()\n",
    "dir = os.path.dirname(dir)\n",
    "\n",
    "data_flag = \"bloodmnist\"\n",
    "data_dir = \"Datasets\"\n",
    "\n",
    "PATH = os.path.join(dir, data_dir)\n",
    "\n",
    "data_transforms = {\n",
    "            \"train\": transforms.Compose([\n",
    "                transforms.ToTensor(),\n",
    "                transforms.RandomHorizontalFlip(),\n",
    "                transforms.RandomVerticalFlip(),\n",
    "                transforms.Lambda(lambda x: x.squeeze().numpy()),\n",
    "                transforms.Lambda(lambda x: x.flatten()),\n",
    "                # transforms.Lambda(extract_hog)\n",
    "            ]),\n",
    "            \"val\": transforms.Compose([\n",
    "                transforms.ToTensor(),\n",
    "                transforms.Lambda(lambda x: x.squeeze().numpy()),\n",
    "                transforms.Lambda(lambda x: x.flatten()),\n",
    "                # transforms.Lambda(extract_hog)\n",
    "            ]),\n",
    "            \"test\": transforms.Compose([\n",
    "                transforms.ToTensor(),\n",
    "                transforms.Lambda(lambda x: x.squeeze().numpy()),\n",
    "                transforms.Lambda(lambda x: x.flatten()),\n",
    "                # transforms.Lambda(extract_hog)\n",
    "            ]),\n",
    "        }\n",
    "\n",
    "# retrieve the data from the \n",
    "datasets = {x: BloodMNIST(split= x, transform=data_transforms[x], download=False, root=PATH)\n",
    "            for x in [\"train\", \"val\", \"test\"]} \n",
    "\n",
    "# get the size of all 3 data splits\n",
    "dataset_sizes = {x: len(datasets[x]) for x in [\"train\", \"val\", \"test\"]}\n",
    "\n",
    "# process the images\n",
    "inputs = {x: np.array([datasets[x][i][0] for i in range(dataset_sizes[x])])\n",
    "    for x in [\"train\", \"val\", \"test\"]}\n",
    "\n",
    "labels = {x: np.array([datasets[x][i][1] for i in range(dataset_sizes[x])]).ravel()\n",
    "            for x in [\"train\", \"val\", \"test\"]}"
   ]
  },
  {
   "cell_type": "code",
   "execution_count": null,
   "metadata": {
    "vscode": {
     "languageId": "plaintext"
    }
   },
   "outputs": [],
   "source": [
    "print(inputs[\"train\"][1].shape)\n"
   ]
  },
  {
   "cell_type": "code",
   "execution_count": null,
   "metadata": {
    "vscode": {
     "languageId": "plaintext"
    }
   },
   "outputs": [],
   "source": [
    "from medmnist import INFO\n",
    "info = INFO[data_flag]\n",
    "\n",
    "class_names = info[\"label\"]\n",
    "class_names = {int(key): value for key, value in class_names.items()}"
   ]
  },
  {
   "cell_type": "code",
   "execution_count": null,
   "metadata": {
    "vscode": {
     "languageId": "plaintext"
    }
   },
   "outputs": [],
   "source": [
    "clf = svm.SVC(kernel=\"rbf\", C=1, class_weight=None, probability=True)"
   ]
  },
  {
   "cell_type": "code",
   "execution_count": null,
   "metadata": {
    "vscode": {
     "languageId": "plaintext"
    }
   },
   "outputs": [],
   "source": [
    "clf.fit(np.concatenate((inputs[\"train\"], inputs[\"val\"]), axis=0), \n",
    "                    np.concatenate((labels[\"train\"], labels[\"val\"]), axis=0))"
   ]
  },
  {
   "cell_type": "code",
   "execution_count": null,
   "metadata": {
    "vscode": {
     "languageId": "plaintext"
    }
   },
   "outputs": [],
   "source": [
    "clf.score(inputs[\"test\"], labels[\"test\"])"
   ]
  },
  {
   "cell_type": "code",
   "execution_count": null,
   "metadata": {
    "vscode": {
     "languageId": "plaintext"
    }
   },
   "outputs": [],
   "source": [
    "from sklearn.metrics import confusion_matrix, ConfusionMatrixDisplay, roc_auc_score, accuracy_score\n",
    "\n",
    "# Get predictions and probabilities\n",
    "predictions = clf.predict(inputs[\"test\"])\n",
    "probabilities = clf.predict_proba(inputs[\"test\"])  # Ensure probability=True when training\n",
    "\n",
    "# Calculate accuracy\n",
    "acc = accuracy_score(labels[\"test\"], predictions)\n",
    "\n",
    "# Calculate confusion matrix\n",
    "cm = confusion_matrix(labels[\"test\"], predictions)\n",
    "disp = ConfusionMatrixDisplay(confusion_matrix=cm, display_labels=class_names)\n",
    "disp.plot(cmap=plt.cm.Blues)\n",
    "plt.title(\"Confusion Matrix\")\n",
    "\n",
    "# Calculate ROC AUC for multiclass (one-vs-rest strategy)\n",
    "auc = roc_auc_score(labels[\"test\"], probabilities, multi_class=\"ovr\")\n",
    "\n",
    "# Print results\n",
    "print(f\"Test Accuracy: {acc:.4f}\")\n",
    "print(f\"Test AUC (OVR): {auc:.4f}\")\n",
    "\n",
    "# Show confusion matrix plot\n",
    "plt.show()"
   ]
  },
  {
   "cell_type": "code",
   "execution_count": null,
   "metadata": {
    "vscode": {
     "languageId": "plaintext"
    }
   },
   "outputs": [],
   "source": [
    "import joblib\n",
    "\n",
    "filepath = os.path.join(os.getcwd(), \"flatten_SVM.pkl\")\n",
    "\n",
    "data = {\n",
    "    \"model\": clf,\n",
    "    \"hog\": False,\n",
    "}\n",
    "\n",
    "joblib.dump(data, filepath)\n",
    "print(f\"Model saved to {filepath}\")"
   ]
  }
 ],
 "metadata": {
  "language_info": {
   "name": "python"
  }
 },
 "nbformat": 4,
 "nbformat_minor": 2
}
